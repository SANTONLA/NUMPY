{
  "cells": [
    {
      "cell_type": "markdown",
      "metadata": {
        "id": "view-in-github",
        "colab_type": "text"
      },
      "source": [
        "<a href=\"https://colab.research.google.com/github/SANTONLA/NUMPY/blob/main/04_Ejercicios.ipynb\" target=\"_parent\"><img src=\"https://colab.research.google.com/assets/colab-badge.svg\" alt=\"Open In Colab\"/></a>"
      ]
    },
    {
      "cell_type": "markdown",
      "metadata": {
        "id": "BV8ufljtjlq2"
      },
      "source": [
        "![logo.png](attachment:logo.png)\n",
        "\n",
        "#### Módulo 1: Python para la ciencia de datos\n",
        "\n",
        "# Ejercicios NumPy"
      ]
    },
    {
      "cell_type": "code",
      "execution_count": 1,
      "metadata": {
        "id": "hTWlhiRyjlq7"
      },
      "outputs": [],
      "source": [
        "import numpy as np"
      ]
    },
    {
      "cell_type": "markdown",
      "metadata": {
        "id": "ZaEt6rgUjlq9"
      },
      "source": [
        "### Ejercicio 1\n",
        "Una vez importado numpy, crea un array numpy a partir de la siguiente lista. Muestra por pantalla el tipo de dicha lista, el número de dimensiones que tiene y cuántos elementos hay por dimensión"
      ]
    },
    {
      "cell_type": "code",
      "execution_count": 2,
      "metadata": {
        "colab": {
          "base_uri": "https://localhost:8080/"
        },
        "id": "X6e3tT5Yjlq-",
        "outputId": "f862ad92-c159-469d-c4b5-7bf2faf621a5"
      },
      "outputs": [
        {
          "output_type": "stream",
          "name": "stdout",
          "text": [
            "Tipo de datos: int64\n",
            "Numero de dimensiones: 1\n",
            "Tamaño de las dimensiones: (7,)\n",
            "Numero de elementos: 7\n",
            "\n",
            "Función del módulo numpy\n",
            "Numero de dimensiones: 1\n",
            "Tamaño de las dimensiones: (7,)\n",
            "Tipo de datos: int64\n",
            "Numero de dimensiones: 1\n"
          ]
        }
      ],
      "source": [
        "lista=[100,80,180,140,25,170,200]\n",
        "\n",
        "array=np.array(lista)\n",
        "print(\"Tipo de datos: {}\".format(array.dtype))\n",
        "print(\"Numero de dimensiones: {}\".format(array.ndim))\n",
        "print(\"Tamaño de las dimensiones: {}\".format(array.shape))\n",
        "print(\"Numero de elementos: {}\".format(array.size))\n",
        "print()\n",
        "print(\"Función del módulo numpy\")\n",
        "print(\"Numero de dimensiones: {}\".format(np.ndim(array)))\n",
        "print(\"Tamaño de las dimensiones: {}\".format(np.shape(array)))\n",
        "\n",
        "print(\"Tipo de datos: {}\".format(array.dtype))\n",
        "print(\"Numero de dimensiones: {}\".format(array.ndim))\n"
      ]
    },
    {
      "cell_type": "code",
      "execution_count": 3,
      "metadata": {
        "id": "Gl5FVMHBjlrB"
      },
      "outputs": [],
      "source": [
        "lista = [100, 80, 180, 140, 25, 170, 200]"
      ]
    },
    {
      "cell_type": "markdown",
      "metadata": {
        "id": "bordFhUDjlrC"
      },
      "source": [
        "### Ejercicio 2\n",
        "Realiza la misma operación pero ahora sobre esta matriz. Imprime el número de dimensiones y cuántos elementos hay"
      ]
    },
    {
      "cell_type": "code",
      "execution_count": 4,
      "metadata": {
        "id": "li3-awsUjlrC"
      },
      "outputs": [],
      "source": [
        "matriz = [[1, 2, 3], [4, 5, 6], [7, 8, 9]]"
      ]
    },
    {
      "cell_type": "code",
      "execution_count": 5,
      "metadata": {
        "colab": {
          "base_uri": "https://localhost:8080/"
        },
        "id": "PIh6XpuvjlrD",
        "outputId": "d3d049e6-ea8f-444a-fa64-abcf6c11cbe3"
      },
      "outputs": [
        {
          "output_type": "stream",
          "name": "stdout",
          "text": [
            "Segunda versión de matriz2:\n",
            "Tipo de datos: int64\n",
            "Numero de dimensiones: 2\n",
            "Tamaño de las dimensiones: (3, 3)\n",
            "Tipo de datos: int64\n",
            "Numero de elementos: 9\n"
          ]
        }
      ],
      "source": [
        "matriz2=np.array(matriz)\n",
        "print(\"Segunda versión de matriz2:\")\n",
        "print(\"Tipo de datos: {}\".format(matriz2.dtype))\n",
        "print(\"Numero de dimensiones: {}\".format(matriz2.ndim))\n",
        "print(\"Tamaño de las dimensiones: {}\".format(matriz2.shape))\n",
        "print(\"Tipo de datos: {}\".format(matriz2.dtype))\n",
        "print(\"Numero de elementos: {}\".format(matriz2.size))"
      ]
    },
    {
      "cell_type": "markdown",
      "metadata": {
        "id": "ZRopxBaejlrE"
      },
      "source": [
        "### Ejercicio 3\n",
        "\n",
        "Dada la siguiente matriz, transformarla en una matriz numpy y hacer un recorrido para que muestre:\n",
        "\n",
        "el valor de la posición (0,0) es 1\n",
        "\n",
        "el valor de la posición (0,1) es 2\n",
        "\n",
        "..."
      ]
    },
    {
      "cell_type": "code",
      "execution_count": 6,
      "metadata": {
        "id": "zqPqPjfzjlrF"
      },
      "outputs": [],
      "source": [
        "matriz2 = [[1, 2, 3], [4, 5, 6], [7, 8, 9], [10, 11, 12], [13, 14, 15]]"
      ]
    },
    {
      "cell_type": "code",
      "execution_count": 7,
      "metadata": {
        "id": "XdFnlEkOjlrG"
      },
      "outputs": [],
      "source": [
        "npmatriz=np.array(matriz2)"
      ]
    },
    {
      "cell_type": "code",
      "execution_count": 8,
      "metadata": {
        "colab": {
          "base_uri": "https://localhost:8080/"
        },
        "id": "Ji3kFr7tjlrG",
        "outputId": "942d05f0-3415-4edf-aef2-c7c4e95469d0"
      },
      "outputs": [
        {
          "output_type": "stream",
          "name": "stdout",
          "text": [
            "1\n"
          ]
        }
      ],
      "source": [
        "print(npmatriz[0][0])"
      ]
    },
    {
      "cell_type": "code",
      "execution_count": null,
      "metadata": {
        "id": "3B3EyJSQjlrH",
        "outputId": "23348746-75b4-4d1a-9e22-9d239464187e"
      },
      "outputs": [
        {
          "name": "stdout",
          "output_type": "stream",
          "text": [
            "2\n"
          ]
        }
      ],
      "source": [
        "print(npmatriz[0,1])"
      ]
    },
    {
      "cell_type": "markdown",
      "metadata": {
        "id": "Mh_gdmjBjlrI"
      },
      "source": [
        "### Ejercicio 4\n",
        "\n",
        "Crear una matriz numpy de ceros de 5 filas y 4 columns\n",
        "\n",
        "Crear una matriz numpy de unos de 10 filas y 10 columnas\n",
        "\n",
        "Crear un vector numpy con los numeros del 0 al 1000"
      ]
    },
    {
      "cell_type": "code",
      "execution_count": 9,
      "metadata": {
        "colab": {
          "base_uri": "https://localhost:8080/"
        },
        "id": "owhaRkh2jlrJ",
        "outputId": "0f6b3450-5a51-44f9-b13a-7f7fc83beb58"
      },
      "outputs": [
        {
          "output_type": "stream",
          "name": "stdout",
          "text": [
            "[[0. 0. 0. 0.]\n",
            " [0. 0. 0. 0.]\n",
            " [0. 0. 0. 0.]\n",
            " [0. 0. 0. 0.]\n",
            " [0. 0. 0. 0.]]\n"
          ]
        }
      ],
      "source": [
        "\n",
        "c=np.zeros((5,4))\n",
        "\n",
        "print(c)"
      ]
    },
    {
      "cell_type": "code",
      "execution_count": 10,
      "metadata": {
        "colab": {
          "base_uri": "https://localhost:8080/"
        },
        "id": "kM7SaUmrjlrK",
        "outputId": "6e15aca6-f83a-499a-e11c-7651022d8043"
      },
      "outputs": [
        {
          "output_type": "stream",
          "name": "stdout",
          "text": [
            "[[1. 1. 1. 1. 1. 1. 1. 1. 1. 1.]\n",
            " [1. 1. 1. 1. 1. 1. 1. 1. 1. 1.]\n",
            " [1. 1. 1. 1. 1. 1. 1. 1. 1. 1.]\n",
            " [1. 1. 1. 1. 1. 1. 1. 1. 1. 1.]\n",
            " [1. 1. 1. 1. 1. 1. 1. 1. 1. 1.]\n",
            " [1. 1. 1. 1. 1. 1. 1. 1. 1. 1.]\n",
            " [1. 1. 1. 1. 1. 1. 1. 1. 1. 1.]\n",
            " [1. 1. 1. 1. 1. 1. 1. 1. 1. 1.]\n",
            " [1. 1. 1. 1. 1. 1. 1. 1. 1. 1.]\n",
            " [1. 1. 1. 1. 1. 1. 1. 1. 1. 1.]]\n"
          ]
        }
      ],
      "source": [
        "\n",
        "a=np.ones((10,10))\n",
        "print(a)\n"
      ]
    },
    {
      "cell_type": "markdown",
      "metadata": {
        "id": "BL4al2XEjlrL"
      },
      "source": [
        "### Ejercicio 5\n",
        "\n",
        "Crear una matriz a de números aleatorios de 4 filas y 3 columnas. Crear una nueva matriz b con los mismos elementos pero en forma de 6 filas y 2 columnas (utilizando reshape). Modificar el elemento (0,0) de b poniéndolo a 0 y mostrar a por pantalla."
      ]
    },
    {
      "cell_type": "code",
      "execution_count": 11,
      "metadata": {
        "colab": {
          "base_uri": "https://localhost:8080/"
        },
        "id": "uWLjKbPdjlrM",
        "outputId": "326b7132-0650-42bf-d4a8-18514f57a175"
      },
      "outputs": [
        {
          "output_type": "stream",
          "name": "stdout",
          "text": [
            "[[0.64879025 0.21023311 0.43175298]\n",
            " [0.83258559 0.96114489 0.34438431]\n",
            " [0.72114697 0.15801534 0.60024092]\n",
            " [0.61709711 0.21335924 0.46303875]]\n"
          ]
        }
      ],
      "source": [
        "o=np.random.rand(4,3)\n",
        "\n",
        "print(o)\n"
      ]
    },
    {
      "cell_type": "code",
      "execution_count": 12,
      "metadata": {
        "colab": {
          "base_uri": "https://localhost:8080/"
        },
        "id": "Z6nvEYbKjlrN",
        "outputId": "3ef4a53b-e3de-439b-cc01-e382464bd38c"
      },
      "outputs": [
        {
          "output_type": "stream",
          "name": "stdout",
          "text": [
            "[[0.89749786 0.17399911]\n",
            " [0.43086639 0.20320172]\n",
            " [0.24088307 0.28814384]\n",
            " [0.85939077 0.0643251 ]\n",
            " [0.31846132 0.46957502]\n",
            " [0.03939054 0.09831206]]\n",
            "[[0.89749786 0.17399911]\n",
            " [0.43086639 0.20320172]\n",
            " [0.24088307 0.28814384]\n",
            " [0.85939077 0.0643251 ]\n",
            " [0.31846132 0.46957502]\n",
            " [0.03939054 0.09831206]]\n",
            "[[0.89749786 0.17399911 0.43086639]\n",
            " [0.20320172 0.24088307 0.28814384]\n",
            " [0.85939077 0.0643251  0.31846132]\n",
            " [0.46957502 0.03939054 0.09831206]]\n"
          ]
        }
      ],
      "source": [
        "o=np.random.rand(4,3)\n",
        "print(o.reshape((6,2)))\n",
        "print(np.reshape(o,(6,2)))\n",
        "print(o)"
      ]
    },
    {
      "cell_type": "markdown",
      "metadata": {
        "id": "OHvisJ0njlrN"
      },
      "source": [
        "### Ejercicio 6\n",
        "\n",
        "Dada la siguiente lista, transformarla en un array numpy. Muestra el número de dimensiones. A continuación transfórmalo en un vector columna. Muestra el número de dimensiones"
      ]
    },
    {
      "cell_type": "code",
      "execution_count": 13,
      "metadata": {
        "id": "3j-i6bYIjlrO"
      },
      "outputs": [],
      "source": [
        "lista = [100, 80, 180, 140, 25, 170, 200]"
      ]
    },
    {
      "cell_type": "code",
      "execution_count": 14,
      "metadata": {
        "id": "wYVwZpqOjlrP"
      },
      "outputs": [],
      "source": [
        "a=np.array(lista)"
      ]
    },
    {
      "cell_type": "code",
      "execution_count": 15,
      "metadata": {
        "colab": {
          "base_uri": "https://localhost:8080/"
        },
        "id": "PHwk-mxPjlrP",
        "outputId": "e85ce3c1-94e9-44e6-8a0c-85242e7997da"
      },
      "outputs": [
        {
          "output_type": "stream",
          "name": "stdout",
          "text": [
            "Tamaño de las dimensiones: (7,)\n"
          ]
        }
      ],
      "source": [
        "print(\"Tamaño de las dimensiones: {}\".format(a.shape))"
      ]
    },
    {
      "cell_type": "code",
      "execution_count": 16,
      "metadata": {
        "colab": {
          "base_uri": "https://localhost:8080/"
        },
        "id": "KrKTZlbDjlrQ",
        "outputId": "0e346f22-e3aa-45e5-a975-600bb0d93ce8"
      },
      "outputs": [
        {
          "output_type": "stream",
          "name": "stdout",
          "text": [
            "[[100]\n",
            " [ 80]\n",
            " [180]\n",
            " [140]\n",
            " [ 25]\n",
            " [170]\n",
            " [200]]\n"
          ]
        }
      ],
      "source": [
        "print(a.reshape((7,1)))"
      ]
    },
    {
      "cell_type": "markdown",
      "metadata": {
        "id": "XeivSpFDjlrR"
      },
      "source": [
        "### Ejercicio 7\n",
        "\n",
        "Intenta repetir el mismo ejercicio que el 5 pero utilizando la función resize. Observa que la función resize modifica las propias dimensiones de a"
      ]
    },
    {
      "cell_type": "code",
      "execution_count": 17,
      "metadata": {
        "colab": {
          "base_uri": "https://localhost:8080/"
        },
        "id": "dUZXJklpjlrR",
        "outputId": "ebb626df-1c4a-45b6-ffbc-90d56e83dcdb"
      },
      "outputs": [
        {
          "output_type": "stream",
          "name": "stdout",
          "text": [
            "None\n",
            "[[0.95161497 0.05128991]\n",
            " [0.87071016 0.41079429]\n",
            " [0.36660322 0.15148545]\n",
            " [0.25785484 0.54340558]\n",
            " [0.55143103 0.39132593]\n",
            " [0.28541705 0.27184527]]\n",
            "[[0.95161497 0.05128991]\n",
            " [0.87071016 0.41079429]\n",
            " [0.36660322 0.15148545]\n",
            " [0.25785484 0.54340558]\n",
            " [0.55143103 0.39132593]\n",
            " [0.28541705 0.27184527]]\n"
          ]
        }
      ],
      "source": [
        "o=np.random.rand(4,3)\n",
        "print(o.resize((6,2)))\n",
        "print(np.resize(o,(6,2)))\n",
        "print(o)"
      ]
    },
    {
      "cell_type": "markdown",
      "metadata": {
        "id": "Ohs12VjajlrS"
      },
      "source": [
        "### Ejercicio 8\n",
        "\n",
        "Crear una matriz a de números aleatorios de 4 filas y 3 columnas. Crear un array b (una sola dimensión) con la concatenación de los elementos de a (utilizando ravel). Cambia el primer elemento poniéndolo a 0 y muestra a"
      ]
    },
    {
      "cell_type": "code",
      "execution_count": 18,
      "metadata": {
        "colab": {
          "base_uri": "https://localhost:8080/"
        },
        "id": "9m7IasUGjlrT",
        "outputId": "40294553-6aed-42fe-a69a-86dde02e6063"
      },
      "outputs": [
        {
          "output_type": "stream",
          "name": "stdout",
          "text": [
            "[[0.90686841 0.80147802 0.78619158]\n",
            " [0.30737705 0.42046755 0.43213643]\n",
            " [0.22869438 0.42427868 0.52023113]\n",
            " [0.93051166 0.76422293 0.36954649]]\n"
          ]
        }
      ],
      "source": [
        "o=np.random.rand(4,3)\n",
        "\n",
        "print(o)"
      ]
    },
    {
      "cell_type": "code",
      "execution_count": 19,
      "metadata": {
        "colab": {
          "base_uri": "https://localhost:8080/"
        },
        "id": "peaqkFAVjlrU",
        "outputId": "923fb713-22c1-4b79-9f91-78bb53a2d2e7"
      },
      "outputs": [
        {
          "output_type": "stream",
          "name": "stdout",
          "text": [
            "[[0.90686841 0.80147802 0.78619158]\n",
            " [0.30737705 0.42046755 0.43213643]\n",
            " [0.22869438 0.42427868 0.52023113]\n",
            " [0.93051166 0.76422293 0.36954649]]\n",
            "[0.90686841 0.80147802 0.78619158 0.30737705 0.42046755 0.43213643\n",
            " 0.22869438 0.42427868 0.52023113 0.93051166 0.76422293 0.36954649]\n",
            "[[0.         0.80147802 0.78619158]\n",
            " [0.30737705 0.42046755 0.43213643]\n",
            " [0.22869438 0.42427868 0.52023113]\n",
            " [0.93051166 0.76422293 0.36954649]]\n",
            "[0.         0.80147802 0.78619158 0.30737705 0.42046755 0.43213643\n",
            " 0.22869438 0.42427868 0.52023113 0.93051166 0.76422293 0.36954649]\n"
          ]
        }
      ],
      "source": [
        "a=np.array(o)\n",
        "b=a.ravel()\n",
        "print(a)\n",
        "print(b)\n",
        "b[0]=0\n",
        "print(a)\n",
        "print(b)\n",
        "\n",
        "\n",
        "\n"
      ]
    },
    {
      "cell_type": "markdown",
      "metadata": {
        "id": "NWZB8ml-jlrU"
      },
      "source": [
        "### Ejercicio 9\n",
        "\n",
        "Crear una matriz a de números aleatorios de 4 filas y 3 columnas. Crear un array b (una sola dimensión) con la concatenación de los elementos de a. Suma 1 a todos los elementos del array b de tal forma que los valores de a no cambien."
      ]
    },
    {
      "cell_type": "code",
      "execution_count": 20,
      "metadata": {
        "colab": {
          "base_uri": "https://localhost:8080/"
        },
        "id": "sL6rWhh3jlrV",
        "outputId": "ae3851be-3bb0-4c8c-a9bf-eeb1801ebc8b"
      },
      "outputs": [
        {
          "output_type": "stream",
          "name": "stdout",
          "text": [
            "Matriz a:\n",
            "[[0.60445077 0.94353606 0.46782441]\n",
            " [0.46441332 0.1561649  0.01665125]\n",
            " [0.03547341 0.29278538 0.70226632]\n",
            " [0.3003743  0.79633249 0.62518659]]\n",
            "\n",
            "Array b (modificado):\n",
            "[1.60445077 1.94353606 1.46782441 1.46441332 1.1561649  1.01665125\n",
            " 1.03547341 1.29278538 1.70226632 1.3003743  1.79633249 1.62518659]\n"
          ]
        }
      ],
      "source": [
        "\n",
        "# Crear matriz aleatoria de 4 filas y 3 columnas\n",
        "a = np.random.rand(4, 3)\n",
        "\n",
        "# Crear array unidimensional con la concatenación de los elementos de a\n",
        "b = a.flatten()\n",
        "\n",
        "# Sumar 1 a todos los elementos del array b\n",
        "b += 1\n",
        "\n",
        "# Imprimir la matriz original y el array modificado\n",
        "print(\"Matriz a:\")\n",
        "print(a)\n",
        "print(\"\\nArray b (modificado):\")\n",
        "print(b)\n"
      ]
    },
    {
      "cell_type": "markdown",
      "metadata": {
        "id": "9EeP9D_WjlrV"
      },
      "source": [
        "### Ejercicio 10\n",
        "\n",
        "Dada una matriz de unos de dimensión 10x10, modificar de una sola vez a 0 todos los elementos que no estén en el borde de la matriz (primera o última fila o columna)."
      ]
    },
    {
      "cell_type": "code",
      "execution_count": 21,
      "metadata": {
        "colab": {
          "base_uri": "https://localhost:8080/"
        },
        "id": "_abLyAuPjlrW",
        "outputId": "8b875e17-3d86-43f3-da93-c8f0dc674197"
      },
      "outputs": [
        {
          "output_type": "stream",
          "name": "stdout",
          "text": [
            "[[1. 1. 1. 1. 1. 1. 1. 1. 1. 1.]\n",
            " [1. 0. 0. 0. 0. 0. 0. 0. 0. 1.]\n",
            " [1. 0. 0. 0. 0. 0. 0. 0. 0. 1.]\n",
            " [1. 0. 0. 0. 0. 0. 0. 0. 0. 1.]\n",
            " [1. 0. 0. 0. 0. 0. 0. 0. 0. 1.]\n",
            " [1. 0. 0. 0. 0. 0. 0. 0. 0. 1.]\n",
            " [1. 0. 0. 0. 0. 0. 0. 0. 0. 1.]\n",
            " [1. 0. 0. 0. 0. 0. 0. 0. 0. 1.]\n",
            " [1. 0. 0. 0. 0. 0. 0. 0. 0. 1.]\n",
            " [1. 1. 1. 1. 1. 1. 1. 1. 1. 1.]]\n"
          ]
        }
      ],
      "source": [
        "\n",
        "\n",
        "# Crear una matriz de unos de dimensión 10x10\n",
        "matriz = np.ones((10, 10))\n",
        "\n",
        "# Modificar todos los elementos que no estén en el borde de la matriz a 0\n",
        "matriz[1:-1, 1:-1] = 0\n",
        "\n",
        "# Imprimir la matriz modificada\n",
        "print(matriz)\n"
      ]
    },
    {
      "cell_type": "markdown",
      "metadata": {
        "id": "9dZqC41NjlrW"
      },
      "source": [
        "### Ejercicio 11\n",
        "\n",
        "Dada una matriz de unos de dimensión 8x8, modificar (en dos instrucciones) a 0 los elementos necesarios hasta crear una matriz de unos y ceros salteados (tipo tablero de ajedrez)"
      ]
    },
    {
      "cell_type": "code",
      "execution_count": 22,
      "metadata": {
        "colab": {
          "base_uri": "https://localhost:8080/"
        },
        "id": "CD01YpVCjlrX",
        "outputId": "526a749a-11a8-4e45-ebaa-e9f36309f49d"
      },
      "outputs": [
        {
          "output_type": "stream",
          "name": "stdout",
          "text": [
            "[[0. 1. 0. 1. 0. 1. 0. 1.]\n",
            " [1. 0. 1. 0. 1. 0. 1. 0.]\n",
            " [0. 1. 0. 1. 0. 1. 0. 1.]\n",
            " [1. 0. 1. 0. 1. 0. 1. 0.]\n",
            " [0. 1. 0. 1. 0. 1. 0. 1.]\n",
            " [1. 0. 1. 0. 1. 0. 1. 0.]\n",
            " [0. 1. 0. 1. 0. 1. 0. 1.]\n",
            " [1. 0. 1. 0. 1. 0. 1. 0.]]\n"
          ]
        }
      ],
      "source": [
        "\n",
        "\n",
        "# Crear una matriz de unos de dimensión 8x8\n",
        "matriz = np.ones((8, 8))\n",
        "\n",
        "# Modificar los elementos pares a 0 en las filas y columnas pares\n",
        "matriz[::2, ::2] = 0\n",
        "\n",
        "# Modificar los elementos impares a 0 en las filas y columnas impares\n",
        "matriz[1::2, 1::2] = 0\n",
        "\n",
        "# Imprimir la matriz resultante\n",
        "print(matriz)\n"
      ]
    },
    {
      "cell_type": "markdown",
      "metadata": {
        "id": "oWqm-jAkjlrX"
      },
      "source": [
        "### Ejercicio 12\n",
        "\n",
        "Dada la siguiente matriz, obtener un array numpy con los elementos mayores de 10"
      ]
    },
    {
      "cell_type": "code",
      "execution_count": 23,
      "metadata": {
        "id": "V45JeYXtjlrY"
      },
      "outputs": [],
      "source": [
        "matriz = [[ 0, 10, 20], [20, 30, 40]]"
      ]
    },
    {
      "cell_type": "code",
      "execution_count": 25,
      "metadata": {
        "colab": {
          "base_uri": "https://localhost:8080/"
        },
        "id": "p4i5CVyljlrY",
        "outputId": "de93bbe1-be56-4321-8be7-804b2b7344c2"
      },
      "outputs": [
        {
          "output_type": "stream",
          "name": "stdout",
          "text": [
            "[20 20 30 40]\n"
          ]
        }
      ],
      "source": [
        "\n",
        "# Definir la matriz como una lista de listas\n",
        "matriz = [[0, 10, 20], [20, 30, 40]]\n",
        "\n",
        "# Convertir la matriz en un array numpy\n",
        "matriz_np = np.array(matriz)\n",
        "\n",
        "# Obtener un array numpy con los elementos mayores de 10\n",
        "elementos_mayores_de_10 = matriz_np[matriz_np > 10]\n",
        "\n",
        "# Imprimir el array resultante\n",
        "print(elementos_mayores_de_10)\n"
      ]
    },
    {
      "cell_type": "markdown",
      "metadata": {
        "id": "mT6WReEHjlrZ"
      },
      "source": [
        "### Ejercicio 13\n",
        "Dada la siguiente matriz, obtener una nueva en la que sumamos +1 a todos los elementos positivos y restamos 1 a todos los negativos"
      ]
    },
    {
      "cell_type": "code",
      "execution_count": 27,
      "metadata": {
        "id": "4CmfshfKjlrf"
      },
      "outputs": [],
      "source": [
        "matriz = np.random.randn(10,10)\n",
        "# Convertir la matriz en un array numpy\n",
        "matriz_np = np.array(matriz)"
      ]
    },
    {
      "cell_type": "code",
      "execution_count": 28,
      "metadata": {
        "colab": {
          "base_uri": "https://localhost:8080/"
        },
        "id": "dA5MDWXgjlrf",
        "outputId": "9794e678-8821-4bb4-8f5f-f246de3b6d18"
      },
      "outputs": [
        {
          "output_type": "stream",
          "name": "stdout",
          "text": [
            "[[ 1.11122594 -1.88445198 -1.12613773  1.69749097 -1.51894659 -1.12230967\n",
            "  -1.48250903  1.1020847  -1.44538116 -1.79443508]\n",
            " [-2.1087261  -2.41518355 -2.40699631  1.97371097  1.27386732  2.87828518\n",
            "  -1.35130439  1.48035201 -2.29191339 -1.97809233]\n",
            " [-2.01231828 -1.18636865  1.87205655  1.37343058  2.46838203  2.60972909\n",
            "  -1.02572788  2.5027967  -1.87701165 -1.88212267]\n",
            " [ 2.17108889  1.85353846  1.73819038  2.03075319 -2.31382521 -1.12134277\n",
            "   1.55869648 -1.19448168 -1.8607057  -1.41061947]\n",
            " [ 2.0049023   2.54257189 -1.45992154 -2.19239311  3.71709436 -1.5008661\n",
            "  -1.01830603 -1.18837164  2.21205657  1.76129286]\n",
            " [-2.2599078   1.17022021 -2.91117312  1.77215603  1.74860634  1.14360633\n",
            "  -1.02317582  3.97401568 -2.91570161  2.65021481]\n",
            " [-1.04651546  1.28863138 -1.77848969  3.60215505 -1.24564395  1.30362967\n",
            "  -1.10504102  1.21979799  1.61164171 -3.04910178]\n",
            " [-1.19463595 -2.04518549 -1.59696006  1.2638245   1.16125927 -1.09362415\n",
            "  -2.06335221  2.20528665  1.62146101  2.55762076]\n",
            " [-2.02142579 -2.76434132 -1.51293308 -1.71457419  2.22497504 -3.00382848\n",
            "   2.22002502  2.61896773  1.70552655  2.75475444]\n",
            " [-2.78785391  1.20604013 -1.03643999 -1.58789914 -1.44824327 -1.07998787\n",
            "  -1.4095772   1.19541916  1.08108772  1.79633397]]\n"
          ]
        }
      ],
      "source": [
        "\n",
        "# Aplicar la lógica para sumar 1 a los elementos positivos y restar 1 a los negativos\n",
        "nueva_matriz = np.where(matriz > 0, matriz + 1, matriz - 1)\n",
        "\n",
        "# Imprimir la nueva matriz\n",
        "print(nueva_matriz)\n"
      ]
    },
    {
      "cell_type": "markdown",
      "metadata": {
        "id": "oPkJG9Lcjlrf"
      },
      "source": [
        "### Ejercicio 14\n",
        "\n",
        "Dada una matriz de dimensión 10x10 de números aleatorios siguiendo una distribución normal, sumar todos los elementos positivos, todos los negativos y todos los elementos de dicha matriz"
      ]
    },
    {
      "cell_type": "code",
      "execution_count": 29,
      "metadata": {
        "colab": {
          "base_uri": "https://localhost:8080/"
        },
        "id": "dzox0SpMjlrg",
        "outputId": "6e3a1a77-7d8d-46c7-ae2e-23e10d31414d"
      },
      "outputs": [
        {
          "output_type": "stream",
          "name": "stdout",
          "text": [
            "Suma de elementos positivos: 30.422209876581487\n",
            "Suma de elementos negativos: -33.0269051520754\n",
            "Suma total de la matriz: -2.6046952754939086\n"
          ]
        }
      ],
      "source": [
        "\n",
        "# Generar una matriz de dimensión 10x10 de números aleatorios con distribución normal\n",
        "matriz = np.random.normal(size=(10, 10))\n",
        "\n",
        "# Calcular la suma de todos los elementos positivos\n",
        "suma_positivos = np.sum(matriz[matriz > 0])\n",
        "\n",
        "# Calcular la suma de todos los elementos negativos\n",
        "suma_negativos = np.sum(matriz[matriz < 0])\n",
        "\n",
        "# Calcular la suma de todos los elementos de la matriz\n",
        "suma_total = np.sum(matriz)\n",
        "\n",
        "# Imprimir los resultados\n",
        "print(\"Suma de elementos positivos:\", suma_positivos)\n",
        "print(\"Suma de elementos negativos:\", suma_negativos)\n",
        "print(\"Suma total de la matriz:\", suma_total)\n"
      ]
    },
    {
      "cell_type": "markdown",
      "metadata": {
        "id": "TbbDsKBTjlrg"
      },
      "source": [
        "### Ejercicio 15\n",
        "Dada un array numpy con los números del 0 al 100, obtener la suma de los números que sean multiplos de 3 y de 5"
      ]
    },
    {
      "cell_type": "code",
      "execution_count": 30,
      "metadata": {
        "colab": {
          "base_uri": "https://localhost:8080/"
        },
        "id": "Pt7DdMtrjlrg",
        "outputId": "b9c86c81-f616-406e-b723-cf30c4ca86cd"
      },
      "outputs": [
        {
          "output_type": "stream",
          "name": "stdout",
          "text": [
            "La suma de los números que son múltiplos de 3 y de 5 es: 315\n"
          ]
        }
      ],
      "source": [
        "\n",
        "# Generar un array numpy con los números del 0 al 100\n",
        "array_numeros = np.arange(101)  # El límite superior se establece en 101 para incluir el 100\n",
        "\n",
        "# Seleccionar los números que son múltiplos de 3 y de 5\n",
        "multiplos_3_y_5 = array_numeros[(array_numeros % 3 == 0) & (array_numeros % 5 == 0)]\n",
        "\n",
        "# Calcular la suma de los números que son múltiplos de 3 y de 5\n",
        "suma_multiplos_3_y_5 = np.sum(multiplos_3_y_5)\n",
        "\n",
        "# Imprimir la suma\n",
        "print(\"La suma de los números que son múltiplos de 3 y de 5 es:\", suma_multiplos_3_y_5)\n"
      ]
    },
    {
      "cell_type": "markdown",
      "metadata": {
        "id": "85Fz7acxjlrg"
      },
      "source": [
        "### Ejercicio 16\n",
        "\n",
        "Dada una matriz de dimensión 100x5 de números aleatorios entre 0 y 1, obtener la suma de cada fila, la suma de cada columna y la suma de todos sus elementos"
      ]
    },
    {
      "cell_type": "code",
      "execution_count": 31,
      "metadata": {
        "colab": {
          "base_uri": "https://localhost:8080/"
        },
        "id": "BI_9ZcUojlrh",
        "outputId": "9f486bec-4c2e-434b-e744-099b0838718b"
      },
      "outputs": [
        {
          "output_type": "stream",
          "name": "stdout",
          "text": [
            "Suma de cada fila: [2.23035099 3.39938177 1.5926527  3.01019741 2.73167451 2.23276035\n",
            " 4.16800246 3.33512006 2.71668535 2.63578879 2.58165719 1.7550997\n",
            " 2.45116605 3.08475685 3.57082427 1.43799156 2.47915096 2.1780759\n",
            " 2.36160602 1.57308783 2.97921015 1.62121764 2.11146223 2.23379244\n",
            " 2.891776   2.47289001 2.81223673 2.75319863 3.7836587  2.32571542\n",
            " 3.31755152 2.16574369 3.44326164 3.0369874  2.74898506 3.06679163\n",
            " 2.01387633 2.11192522 2.74254653 4.15343085 3.52889093 2.54349046\n",
            " 1.78389933 2.65961581 2.50595933 3.58880973 1.94676934 3.19037566\n",
            " 2.6411491  1.50287685 2.74349089 2.96803796 1.61782161 2.34070997\n",
            " 2.66280226 2.24063982 3.23276173 1.82355843 2.5030422  2.17579963\n",
            " 2.74408738 2.69507142 3.3520322  3.17557367 3.28528783 2.23664017\n",
            " 2.34193987 1.83326574 1.76693308 3.50893954 2.64764067 2.57586929\n",
            " 2.99421808 2.42482455 3.40621997 1.91204796 3.01722218 1.92814432\n",
            " 2.08476759 2.09772134 1.39462654 1.49703761 3.87151539 3.08716308\n",
            " 3.65791722 3.08574713 3.37602194 2.20861617 2.51388828 2.78707302\n",
            " 1.35957362 2.63039728 3.01524288 2.91304056 3.16236516 4.08798607\n",
            " 3.2106503  1.50031287 4.25633299 2.97969174]\n",
            "Suma de cada columna: [48.09335722 52.83698384 54.5638134  53.8384073  55.80387452]\n",
            "Suma total de todos los elementos: 265.13643627365724\n"
          ]
        }
      ],
      "source": [
        "\n",
        "# Generar una matriz de dimensión 100x5 de números aleatorios entre 0 y 1\n",
        "matriz = np.random.rand(100, 5)\n",
        "\n",
        "# Calcular la suma de cada fila\n",
        "suma_filas = np.sum(matriz, axis=1)\n",
        "\n",
        "# Calcular la suma de cada columna\n",
        "suma_columnas = np.sum(matriz, axis=0)\n",
        "\n",
        "# Calcular la suma de todos los elementos\n",
        "suma_total = np.sum(matriz)\n",
        "\n",
        "# Imprimir los resultados\n",
        "print(\"Suma de cada fila:\", suma_filas)\n",
        "print(\"Suma de cada columna:\", suma_columnas)\n",
        "print(\"Suma total de todos los elementos:\", suma_total)\n"
      ]
    },
    {
      "cell_type": "markdown",
      "metadata": {
        "id": "n9oCle1bjlrh"
      },
      "source": [
        "### Ejercicio 17\n",
        "\n",
        "Dado un vector de 100 números aleatorios entre 0 y 1, cambiar el elemento más pequeño por un 0"
      ]
    },
    {
      "cell_type": "code",
      "execution_count": 32,
      "metadata": {
        "colab": {
          "base_uri": "https://localhost:8080/"
        },
        "id": "jdtwXJjIjlrh",
        "outputId": "687e30b2-962a-4797-a54c-50fc5c426d50"
      },
      "outputs": [
        {
          "output_type": "stream",
          "name": "stdout",
          "text": [
            "Vector con el elemento más pequeño cambiado por 0:\n",
            "[0.86569348 0.35515796 0.34472268 0.15752826 0.93725006 0.68049898\n",
            " 0.81299523 0.51970612 0.53470065 0.30806237 0.83949548 0.30696688\n",
            " 0.72054393 0.63491133 0.49222192 0.67189051 0.57267125 0.88280051\n",
            " 0.44789869 0.67425942 0.50558125 0.99788949 0.05446472 0.2919087\n",
            " 0.60524274 0.61888003 0.6857247  0.31358872 0.30567489 0.02039039\n",
            " 0.40807564 0.82765357 0.56874751 0.62244694 0.3832412  0.88791086\n",
            " 0.86799926 0.28639022 0.74521184 0.19057859 0.37558043 0.92815591\n",
            " 0.04662979 0.60960833 0.51451033 0.60683443 0.65215195 0.9297845\n",
            " 0.90258724 0.88678051 0.71732915 0.05553176 0.29510788 0.4092429\n",
            " 0.74203232 0.35774476 0.32514314 0.93558571 0.31338613 0.91477374\n",
            " 0.69969497 0.03952358 0.8304853  0.53071699 0.01777769 0.83434929\n",
            " 0.23219375 0.         0.59471526 0.48188495 0.03896372 0.1450843\n",
            " 0.69604092 0.11879584 0.02443754 0.1334558  0.04089699 0.0644763\n",
            " 0.95377097 0.95631234 0.9125415  0.82807842 0.70101478 0.36990538\n",
            " 0.88095623 0.17424744 0.09980665 0.29067863 0.95154148 0.03312865\n",
            " 0.82968929 0.83251334 0.85637451 0.9614829  0.7771296  0.90388568\n",
            " 0.19695035 0.90042012 0.2728373  0.52928007]\n"
          ]
        }
      ],
      "source": [
        "\n",
        "# Generar un vector de 100 números aleatorios entre 0 y 1\n",
        "vector = np.random.rand(100)\n",
        "\n",
        "# Encontrar el índice del elemento más pequeño\n",
        "indice_minimo = np.argmin(vector)\n",
        "\n",
        "# Cambiar el elemento más pequeño por un 0\n",
        "vector[indice_minimo] = 0\n",
        "\n",
        "# Imprimir el vector modificado\n",
        "print(\"Vector con el elemento más pequeño cambiado por 0:\")\n",
        "print(vector)\n"
      ]
    },
    {
      "cell_type": "markdown",
      "metadata": {
        "id": "l0vTX1eJjlrh"
      },
      "source": [
        "### Ejercicio 18\n",
        "\n",
        "Crea dos matrices, a y b, de números aleatorios entre 0 y 1 de dimensión 10x10. Obtén una nueva matriz como resultado de sumar las dos matrices a y b"
      ]
    },
    {
      "cell_type": "code",
      "execution_count": 33,
      "metadata": {
        "colab": {
          "base_uri": "https://localhost:8080/"
        },
        "id": "wBJYA35Hjlrh",
        "outputId": "dd36006b-9f73-4ccd-acdd-48677f18e6d5"
      },
      "outputs": [
        {
          "output_type": "stream",
          "name": "stdout",
          "text": [
            "Matriz resultante de la suma de a y b:\n",
            "[[0.64104972 0.43539391 0.93416246 1.4218376  1.32188543 0.91704538\n",
            "  0.59670931 0.14131998 1.05079533 0.94314955]\n",
            " [0.74812586 0.86025221 0.45224958 1.76552711 1.82473036 1.13528408\n",
            "  1.52540637 0.65101604 1.01411709 0.59712226]\n",
            " [0.68656764 0.76155664 0.46355262 0.95672013 1.37022278 0.60365094\n",
            "  0.9434908  0.23815686 0.98323039 0.76711665]\n",
            " [0.84962322 1.07581839 1.03530653 0.82071937 0.54623041 0.81160732\n",
            "  0.72896117 1.81240934 0.82466156 0.62033642]\n",
            " [1.55521803 1.18968967 0.20859162 1.38954798 1.14076315 1.34616369\n",
            "  0.71621269 1.64835499 0.3753053  0.92942032]\n",
            " [0.9748112  1.26258857 1.31418805 1.14835808 1.52955475 0.99640626\n",
            "  0.7687284  0.63832937 1.07993673 0.44746399]\n",
            " [1.70515066 1.38948544 1.32069655 0.53876772 0.40606326 1.29523456\n",
            "  0.7996354  1.71557282 0.67460169 0.71971219]\n",
            " [0.98045498 1.32233698 1.06819607 0.83718079 1.19944608 0.78094905\n",
            "  0.58586674 1.34035705 1.28118307 0.73019305]\n",
            " [1.09080363 1.41691362 0.69842358 0.86734062 1.27427782 0.89766041\n",
            "  1.24631198 0.32447267 0.906778   0.99567545]\n",
            " [0.16135009 1.58714424 0.8796699  1.00376384 1.03338873 1.35578915\n",
            "  0.02696118 1.08831456 0.66406883 1.0642215 ]]\n"
          ]
        }
      ],
      "source": [
        "\n",
        "\n",
        "# Crear las matrices a y b de números aleatorios entre 0 y 1 de dimensión 10x10\n",
        "a = np.random.rand(10, 10)\n",
        "b = np.random.rand(10, 10)\n",
        "\n",
        "# Obtener una nueva matriz como resultado de sumar las matrices a y b\n",
        "nueva_matriz = a + b\n",
        "\n",
        "# Imprimir la nueva matriz\n",
        "print(\"Matriz resultante de la suma de a y b:\")\n",
        "print(nueva_matriz)\n"
      ]
    },
    {
      "cell_type": "markdown",
      "metadata": {
        "id": "_gZnNG0Ajlri"
      },
      "source": [
        "### Ejercicio 19\n",
        "\n",
        "Dados la siguiente matriz y el vector, obtener una nueva matriz cuyos elementos sean el resultado de multiplicar elemento a elemento el vector fila por todas las filas de la matriz.\n",
        "\n",
        "Obtener otra matriz cuyo resultado sea el de multiplicar elemento a elemento el vector por todas las columnas de la matriz"
      ]
    },
    {
      "cell_type": "code",
      "execution_count": null,
      "metadata": {
        "id": "fC74HMwSjlri"
      },
      "outputs": [],
      "source": [
        "a = [[1, 2, 3], [4, 5, 6], [7, 8, 9]]\n",
        "b = [1, 2, 3]"
      ]
    },
    {
      "cell_type": "code",
      "execution_count": 34,
      "metadata": {
        "colab": {
          "base_uri": "https://localhost:8080/"
        },
        "id": "30PhrbnKjlri",
        "outputId": "48e1e25b-ce5d-4edb-f165-af4cc98a3da0"
      },
      "outputs": [
        {
          "output_type": "stream",
          "name": "stdout",
          "text": [
            "Matriz resultado de multiplicar elemento a elemento el vector por todas las filas de la matriz:\n",
            "[[3.59968473e-02 2.09148847e-02 2.17445667e-01 4.78959811e-01\n",
            "  4.35352894e-01 1.24604725e-01 7.07156487e-02 2.72900196e-04\n",
            "  1.16152155e-01 1.59367127e-01]\n",
            " [1.24872279e-01 1.82954822e-01 3.52144465e-02 7.71607764e-01\n",
            "  8.31801178e-01 3.21787914e-01 5.68082459e-01 2.17706482e-02\n",
            "  2.33555380e-01 1.50567986e-02]\n",
            " [8.34932521e-02 1.44992127e-01 5.23289386e-02 2.28290007e-01\n",
            "  4.22997508e-01 7.85512716e-02 2.18544585e-01 7.57991699e-03\n",
            "  7.09827984e-02 1.46904383e-01]\n",
            " [1.46746911e-01 1.56623926e-01 2.03361029e-01 1.24615829e-01\n",
            "  6.84845869e-02 1.64530875e-01 1.04722977e-01 8.21188412e-01\n",
            "  1.18372600e-01 9.52281177e-02]\n",
            " [6.04407770e-01 2.71691770e-01 4.40513667e-03 4.63764935e-01\n",
            "  2.91326105e-01 4.37395591e-01 9.27296296e-02 6.78059016e-01\n",
            "  9.40231286e-03 1.56747240e-01]\n",
            " [2.02914513e-01 2.66458839e-01 3.47428810e-01 1.91053369e-01\n",
            "  5.77352601e-01 1.05972363e-01 1.27178058e-01 5.02111321e-02\n",
            "  2.59056960e-01 4.79560194e-02]\n",
            " [7.19404716e-01 4.72393835e-01 3.38053096e-01 5.15450601e-02\n",
            "  1.79310852e-02 3.34587522e-01 8.84224490e-02 7.20880331e-01\n",
            "  9.35547152e-02 9.63891369e-02]\n",
            " [1.29806186e-01 4.04510337e-01 1.82504313e-01 1.74389142e-01\n",
            "  3.57159217e-01 6.43855999e-02 6.39053141e-02 3.69720812e-01\n",
            "  4.10302794e-01 1.32007881e-01]\n",
            " [2.59951718e-01 5.01854555e-01 1.20644871e-01 1.45133721e-01\n",
            "  2.84212059e-01 1.26503767e-01 3.34993100e-01 2.47476085e-02\n",
            "  1.47946478e-01 5.95054529e-02]\n",
            " [3.70141251e-03 5.97423746e-01 1.64575967e-01 2.40025391e-01\n",
            "  2.32083418e-01 4.05828447e-01 1.16452429e-04 2.36890967e-01\n",
            "  2.01129297e-02 2.75106132e-01]]\n",
            "\n",
            "Matriz resultado de multiplicar elemento a elemento el vector por todas las columnas de la matriz:\n",
            "[[[3.59968473e-02 2.09148847e-02 2.17445667e-01 4.78959811e-01\n",
            "   4.35352894e-01 1.24604725e-01 7.07156487e-02 2.72900196e-04\n",
            "   1.16152155e-01 1.59367127e-01]\n",
            "  [1.45515659e-01 2.61394736e-02 1.55100861e-01 6.94657372e-01\n",
            "   5.52417336e-01 4.10822963e-01 1.05338382e-01 8.57986610e-02\n",
            "   3.27161792e-01 1.90631121e-02]\n",
            "  [9.14286628e-02 2.09360688e-02 8.56205815e-02 3.97598658e-01\n",
            "   5.60373863e-01 1.42578654e-01 6.66183281e-02 5.27338661e-03\n",
            "   8.37154747e-01 2.66624512e-01]\n",
            "  [3.52202082e-01 9.54429327e-03 3.39806643e-01 5.41240796e-01\n",
            "   2.18595960e-01 3.13892795e-01 3.20906102e-02 1.25691013e-01\n",
            "   5.91782120e-01 2.46705944e-01]\n",
            "  [4.59606797e-01 1.69461755e-02 8.13375350e-02 7.27150883e-01\n",
            "   2.40191154e-01 4.11642980e-01 8.91299118e-02 1.10012073e-01\n",
            "   3.22278806e-01 5.11630830e-01]\n",
            "  [1.74389445e-01 5.46885245e-02 1.61433088e-01 8.26812058e-01\n",
            "   5.29937685e-01 6.57524763e-01 8.60632885e-02 1.28055903e-02\n",
            "   3.32785038e-01 1.28555860e-01]\n",
            "  [4.43461366e-01 3.26237503e-02 1.52898105e-01 3.61973756e-01\n",
            "   2.21321768e-01 7.05234670e-01 2.16160356e-02 1.36563712e-01\n",
            "   1.80531196e-01 3.91514137e-01]\n",
            "  [4.76213350e-01 4.62823263e-02 3.76272865e-01 3.90803418e-01\n",
            "   3.42046018e-01 7.03717747e-02 7.19067598e-02 1.32671188e-01\n",
            "   5.85869924e-01 2.37890978e-01]\n",
            "  [2.03600026e-01 3.93636156e-02 1.37846750e-01 1.97821702e-01\n",
            "   1.79371932e-01 5.42783343e-01 1.39282958e-01 1.70822719e-02\n",
            "   1.97411364e-01 6.73333749e-01]\n",
            "  [1.60307473e-02 3.37439250e-02 1.18825826e-01 5.33546035e-01\n",
            "   2.05304671e-01 6.83298680e-01 3.51592489e-03 4.19219055e-02\n",
            "   2.94337436e-02 4.49281106e-01]]\n",
            "\n",
            " [[3.08902038e-02 1.46386995e-01 4.93693507e-02 5.32016393e-01\n",
            "   6.55531654e-01 9.75999354e-02 3.81364502e-01 6.92460009e-05\n",
            "   8.29190978e-02 1.25874449e-01]\n",
            "  [1.24872279e-01 1.82954822e-01 3.52144465e-02 7.71607764e-01\n",
            "   8.31801178e-01 3.21787914e-01 5.68082459e-01 2.17706482e-02\n",
            "   2.33555380e-01 1.50567986e-02]\n",
            "  [7.84582606e-02 1.46535267e-01 1.94394884e-02 4.41642491e-01\n",
            "   8.43781701e-01 1.11678489e-01 3.59267942e-01 1.33807502e-03\n",
            "   5.97630896e-01 2.10590566e-01]\n",
            "  [3.02237415e-01 6.68022050e-02 7.71504605e-02 6.01196528e-01\n",
            "   3.29150382e-01 2.45864805e-01 1.73062396e-01 3.18929783e-02\n",
            "   4.22463446e-01 1.94858094e-01]\n",
            "  [3.94405307e-01 1.18609294e-01 1.84670559e-02 8.07700731e-01\n",
            "   3.61667297e-01 3.22430214e-01 4.80671324e-01 2.79145863e-02\n",
            "   2.30069497e-01 4.04106229e-01]\n",
            "  [1.49649925e-01 3.82774703e-01 3.66521296e-02 9.18401833e-01\n",
            "   7.97952492e-01 5.15023601e-01 4.64133241e-01 3.24930481e-03\n",
            "   2.37569723e-01 1.01538494e-01]\n",
            "  [3.80550326e-01 2.28339427e-01 3.47143278e-02 4.02071254e-01\n",
            "   3.33254761e-01 5.52393644e-01 1.16573754e-01 3.46518291e-02\n",
            "   1.28878228e-01 3.09233322e-01]\n",
            "  [4.08655994e-01 3.23938228e-01 8.54298331e-02 4.34094510e-01\n",
            "   5.15035033e-01 5.51205474e-02 3.87788080e-01 3.36641357e-02\n",
            "   4.18242827e-01 1.87895687e-01]\n",
            "  [1.74716587e-01 2.75512942e-01 3.12970346e-02 2.19735322e-01\n",
            "   2.70088889e-01 4.25149360e-01 7.51143163e-01 4.33447479e-03\n",
            "   1.40928700e-01 5.31825579e-01]\n",
            "  [1.37565672e-02 2.36179729e-01 2.69784814e-02 5.92649384e-01\n",
            "   3.09137053e-01 5.35211701e-01 1.89611348e-02 1.06373112e-02\n",
            "   2.10122617e-02 3.54859955e-01]]\n",
            "\n",
            " [[3.28725561e-02 1.44845418e-01 1.32896796e-01 2.75005301e-01\n",
            "   3.28625586e-01 6.86488429e-02 2.31986039e-01 3.92264209e-04\n",
            "   9.84860328e-03 8.78078664e-02]\n",
            "  [1.32885851e-01 1.81028154e-01 9.47933696e-02 3.98852795e-01\n",
            "   4.16991533e-01 2.26335887e-01 3.45567557e-01 1.23326199e-01\n",
            "   2.77402232e-02 1.05033656e-02]\n",
            "  [8.34932521e-02 1.44992127e-01 5.23289386e-02 2.28290007e-01\n",
            "   4.22997508e-01 7.85512716e-02 2.18544585e-01 7.57991699e-03\n",
            "   7.09827984e-02 1.46904383e-01]\n",
            "  [3.21633242e-01 6.60987218e-02 2.07680451e-01 3.10765297e-01\n",
            "   1.65006886e-01 1.72933868e-01 1.05274769e-01 1.80667096e-01\n",
            "   5.01775223e-02 1.35929680e-01]\n",
            "  [4.19715929e-01 1.17360239e-01 4.97112587e-02 4.17509659e-01\n",
            "   1.81307992e-01 2.26787661e-01 2.92394902e-01 1.58130332e-01\n",
            "   2.73261922e-02 2.81897606e-01]\n",
            "  [1.59253581e-01 3.78743765e-01 9.86634524e-02 4.74732313e-01\n",
            "   4.00022797e-01 3.62252026e-01 2.82334699e-01 1.84066367e-02\n",
            "   2.82170213e-02 7.08315197e-02]\n",
            "  [4.04971816e-01 2.25934821e-01 9.34471057e-02 2.07835186e-01\n",
            "   1.67064459e-01 3.88536984e-01 7.09124299e-02 1.96295413e-01\n",
            "   1.53073366e-02 2.15715886e-01]\n",
            "  [4.34881142e-01 3.20526887e-01 2.29967600e-01 2.24388370e-01\n",
            "   2.58193008e-01 3.87701261e-02 2.35893535e-01 1.90700335e-01\n",
            "   4.96762240e-02 1.31072823e-01]\n",
            "  [1.85928874e-01 2.72611560e-01 8.42481329e-02 1.13583677e-01\n",
            "   1.35398678e-01 2.99037202e-01 4.56924349e-01 2.45538992e-02\n",
            "   1.67386151e-02 3.70992444e-01]\n",
            "  [1.46393831e-02 2.33692558e-01 7.26230685e-02 3.06347181e-01\n",
            "   1.54973973e-01 3.76451725e-01 1.15341583e-02 6.02581580e-02\n",
            "   2.49570286e-03 2.47544246e-01]]\n",
            "\n",
            " [[1.49982820e-02 3.43217801e-01 1.30132755e-01 1.10276192e-01\n",
            "   1.36393020e-01 6.53131415e-02 2.30770098e-01 1.78296341e-03\n",
            "   2.32336058e-02 6.15154678e-02]\n",
            "  [6.06298902e-02 4.28954439e-01 9.28218188e-02 1.59938617e-01\n",
            "   1.73068492e-01 2.15338048e-01 3.43756286e-01 5.60556115e-01\n",
            "   6.54413010e-02 7.35833219e-03]\n",
            "  [3.80942492e-02 3.43565436e-01 5.12405802e-02 9.15435177e-02\n",
            "   1.75561216e-01 7.47344033e-02 2.17399096e-01 3.44530915e-02\n",
            "   1.67453832e-01 1.02916655e-01]\n",
            "  [1.46746911e-01 1.56623926e-01 2.03361029e-01 1.24615829e-01\n",
            "   6.84845869e-02 1.64530875e-01 1.04722977e-01 8.21188412e-01\n",
            "   1.18372600e-01 9.52281177e-02]\n",
            "  [1.91497669e-01 2.78090421e-01 4.86773438e-02 1.67419956e-01\n",
            "   7.52502103e-02 2.15767870e-01 2.90862332e-01 7.18751777e-01\n",
            "   6.44645702e-02 1.97488719e-01]\n",
            "  [7.26603100e-02 8.97450566e-01 9.66114101e-02 1.90366046e-01\n",
            "   1.66025774e-01 3.44649914e-01 2.80854859e-01 8.36639159e-02\n",
            "   6.65661040e-02 4.96223658e-02]\n",
            "  [1.84770588e-01 5.35362828e-01 9.15035551e-02 8.33412041e-02\n",
            "   6.93385635e-02 3.69657665e-01 7.05407467e-02 8.92223993e-01\n",
            "   3.61111737e-02 1.51123859e-01]\n",
            "  [1.98416880e-01 7.59503027e-01 2.25184641e-01 8.99789746e-02\n",
            "   1.07160627e-01 3.68862551e-02 2.34657114e-01 8.66792618e-01\n",
            "   1.17189999e-01 9.18255544e-02]\n",
            "  [8.48310573e-02 6.45965481e-01 8.24959062e-02 4.55466690e-02\n",
            "   5.61959730e-02 2.84506749e-01 4.54529408e-01 1.11605145e-01\n",
            "   3.94876687e-02 2.59905800e-01]\n",
            "  [6.67929796e-03 5.53745139e-01 7.11126246e-02 1.22844179e-01\n",
            "   6.43205189e-02 3.58159638e-01 1.14737027e-02 2.73892159e-01\n",
            "   5.88755326e-03 1.73421821e-01]]\n",
            "\n",
            " [[4.73377990e-02 3.35320618e-01 1.17765787e-02 3.05472731e-01\n",
            "   5.28036361e-01 1.32400066e-01 7.35716638e-02 1.68201938e-03\n",
            "   3.38867738e-03 4.88249649e-02]\n",
            "  [1.91360954e-01 4.19084522e-01 8.40006389e-03 4.43041106e-01\n",
            "   6.70022972e-01 4.36524274e-01 1.09592716e-01 5.28819740e-01\n",
            "   9.54477139e-03 5.84032478e-03]\n",
            "  [1.20233631e-01 3.35660255e-01 4.63710098e-03 2.53581919e-01\n",
            "   6.79673386e-01 1.51498453e-01 6.93088635e-02 3.25024995e-02\n",
            "   2.44235448e-02 8.16851799e-02]\n",
            "  [4.63164767e-01 1.53020127e-01 1.84034924e-02 3.45194524e-01\n",
            "   2.65133451e-01 3.33530101e-01 3.33866638e-02 7.74696111e-01\n",
            "   1.72649288e-02 7.55827709e-02]\n",
            "  [6.04407770e-01 2.71691770e-01 4.40513667e-03 4.63764935e-01\n",
            "   2.91326105e-01 4.37395591e-01 9.27296296e-02 6.78059016e-01\n",
            "   9.40231286e-03 1.56747240e-01]\n",
            "  [2.29331542e-01 8.76800906e-01 8.74300922e-03 5.27327202e-01\n",
            "   6.42757566e-01 6.98659874e-01 8.95391536e-02 7.89272100e-02\n",
            "   9.70882662e-03 3.93853832e-02]\n",
            "  [5.83175656e-01 5.23044533e-01 8.28076543e-03 2.30860939e-01\n",
            "   2.68439564e-01 7.49354540e-01 2.24890492e-02 8.41709951e-01\n",
            "   5.26690168e-03 1.19947346e-01]\n",
            "  [6.26246284e-01 7.42027436e-01 2.03784562e-02 2.49248025e-01\n",
            "   4.14865130e-01 7.47742717e-02 7.48108807e-02 8.17718395e-01\n",
            "   1.70924436e-02 7.28821488e-02]\n",
            "  [2.67745035e-01 6.31102304e-01 7.46560336e-03 1.26167445e-01\n",
            "   2.17558913e-01 5.76740168e-01 1.44908223e-01 1.05286522e-01\n",
            "   5.75937161e-03 2.06287817e-01]\n",
            "  [2.10812988e-02 5.41003882e-01 6.43545448e-03 3.40286931e-01\n",
            "   2.49012543e-01 7.26046222e-01 3.65792365e-03 2.58385515e-01\n",
            "   8.58713826e-04 1.37645289e-01]]\n",
            "\n",
            " [[4.18848900e-02 1.01903570e-01 4.67976485e-01 1.10674348e-01\n",
            "   4.74305060e-01 2.00823724e-02 1.04498434e-01 1.07005046e-03\n",
            "   9.04188007e-02 5.94497444e-02]\n",
            "  [1.69317811e-01 1.27359329e-01 3.33800884e-01 1.60516081e-01\n",
            "   6.01843566e-01 6.62117724e-02 1.55661387e-01 3.36419313e-01\n",
            "   2.54679536e-01 7.11123534e-03]\n",
            "  [1.06383747e-01 1.02006785e-01 1.84268647e-01 9.18740389e-02\n",
            "   6.10511984e-01 2.29792057e-02 9.84437123e-02 2.06771188e-02\n",
            "   6.51684236e-01 9.94606567e-02]\n",
            "  [4.09812152e-01 4.65026498e-02 7.31316107e-01 1.25065759e-01\n",
            "   2.38154315e-01 5.05896705e-02 4.74211661e-02 4.92838512e-01\n",
            "   4.60673586e-01 9.20303050e-02]\n",
            "  [5.34785171e-01 8.25668327e-02 1.75050873e-01 1.68024431e-01\n",
            "   2.61681688e-01 6.63439334e-02 1.31709691e-01 4.31360880e-01\n",
            "   2.50878369e-01 1.90856939e-01]\n",
            "  [2.02914513e-01 2.66458839e-01 3.47428810e-01 1.91053369e-01\n",
            "   5.77352601e-01 1.05972363e-01 1.27178058e-01 5.02111321e-02\n",
            "   2.59056960e-01 4.79560194e-02]\n",
            "  [5.15998815e-01 1.58952663e-01 3.29060214e-01 8.36421106e-02\n",
            "   2.41124008e-01 1.13661703e-01 3.19426027e-02 5.35470714e-01\n",
            "   1.40534752e-01 1.46049037e-01]\n",
            "  [5.54108076e-01 2.25501329e-01 8.09797019e-01 9.03038470e-02\n",
            "   3.72649774e-01 1.13417222e-02 1.06258571e-01 5.20208003e-01\n",
            "   4.56071228e-01 8.87420017e-02]\n",
            "  [2.36903100e-01 1.91791302e-01 2.96667386e-01 4.57111169e-02\n",
            "   1.95420810e-01 8.74796457e-02 2.05822209e-01 6.69801385e-02\n",
            "   1.53675141e-01 2.51178020e-01]\n",
            "  [1.86529137e-02 1.64410490e-01 2.55731435e-01 1.23287713e-01\n",
            "   2.23673819e-01 1.10126309e-01 5.19557767e-03 1.64377142e-01\n",
            "   2.29127372e-02 1.67598221e-01]]\n",
            "\n",
            " [[5.83958461e-02 3.02848768e-01 4.80765808e-01 6.82038735e-02\n",
            "   3.52714958e-02 5.91167565e-02 2.89269085e-01 1.44056119e-03\n",
            "   6.01922660e-02 3.92355176e-02]\n",
            "  [2.36062619e-01 3.78501125e-01 3.42923323e-01 9.89192046e-02\n",
            "   4.47558430e-02 1.94908508e-01 4.30896667e-01 4.52906311e-01\n",
            "   1.69541492e-01 4.69325818e-03]\n",
            "  [1.48320048e-01 3.03155515e-01 1.89304522e-01 5.66180460e-02\n",
            "   4.54004663e-02 6.76442049e-02 2.72508605e-01 2.78366824e-02\n",
            "   4.33829586e-01 6.56418356e-02]\n",
            "  [5.71359442e-01 1.38201931e-01 7.51302234e-01 7.70726853e-02\n",
            "   1.77102452e-02 1.48921511e-01 1.31269692e-01 6.63486499e-01\n",
            "   3.06672803e-01 6.07379677e-02]\n",
            "  [7.45596624e-01 2.45381624e-01 1.79834835e-01 1.03546280e-01\n",
            "   1.94598484e-02 1.95297552e-01 3.64594379e-01 5.80721906e-01\n",
            "   1.67011035e-01 1.25961363e-01]\n",
            "  [2.82903087e-01 7.91893072e-01 3.56923687e-01 1.17738031e-01\n",
            "   4.29345827e-02 3.11952305e-01 3.52050065e-01 6.75970068e-02\n",
            "   1.72455566e-01 3.16499131e-02]\n",
            "  [7.19404716e-01 4.72393835e-01 3.38053096e-01 5.15450601e-02\n",
            "   1.79310852e-02 3.34587522e-01 8.84224490e-02 7.20880331e-01\n",
            "   9.35547152e-02 9.63891369e-02]\n",
            "  [7.72536586e-01 6.70170824e-01 8.31927950e-01 5.56504038e-02\n",
            "   2.77119433e-02 3.33867842e-02 2.94141438e-01 7.00332824e-01\n",
            "   3.03608989e-01 5.85677602e-02]\n",
            "  [3.30289920e-01 5.69987483e-01 3.04775005e-01 2.81698089e-02\n",
            "   1.45323861e-02 2.57515040e-01 5.69750184e-01 9.01723720e-02\n",
            "   1.02302341e-01 1.65771943e-01]\n",
            "  [2.60058622e-02 4.88614031e-01 2.62720316e-01 7.59769515e-02\n",
            "   1.66334092e-02 3.24180336e-01 1.43822251e-02 2.21293612e-01\n",
            "   1.52531284e-02 1.10611122e-01]]\n",
            "\n",
            " [[9.81201695e-03 1.82797360e-01 1.05468068e-01 2.13727381e-01\n",
            "   4.54588829e-01 1.14005225e-01 6.28467442e-02 7.60503340e-04\n",
            "   8.13449396e-02 8.84342773e-02]\n",
            "  [3.96646436e-02 2.28460584e-01 7.52288529e-02 3.09978618e-01\n",
            "   5.76825728e-01 3.75876309e-01 9.36168227e-02 2.39099016e-01\n",
            "   2.29121503e-01 1.05782954e-02]\n",
            "  [2.49216156e-02 1.82982510e-01 4.15287065e-02 1.77421399e-01\n",
            "   5.85133812e-01 1.30450201e-01 5.92053542e-02 1.46955854e-02\n",
            "   5.86285313e-01 1.47952382e-01]\n",
            "  [9.60032075e-02 8.34177017e-02 1.64817035e-01 2.41519173e-01\n",
            "   2.28254556e-01 2.87191505e-01 2.85197182e-02 3.50268842e-01\n",
            "   4.14443288e-01 1.36899386e-01]\n",
            "  [1.25279574e-01 1.48110601e-01 3.94512927e-02 3.24478275e-01\n",
            "   2.50803927e-01 3.76626571e-01 7.92119548e-02 3.06575627e-01\n",
            "   2.25701797e-01 2.83908630e-01]\n",
            "  [4.75350572e-02 4.77981019e-01 7.83001848e-02 3.68950320e-01\n",
            "   5.53352820e-01 6.01592421e-01 7.64865709e-02 3.56859187e-02\n",
            "   2.33059636e-01 7.13368234e-02]\n",
            "  [1.20878654e-01 2.85133555e-01 7.41604460e-02 1.61524414e-01\n",
            "   2.31100803e-01 6.45243885e-01 1.92107049e-02 3.80568284e-01\n",
            "   1.26431569e-01 2.17254778e-01]\n",
            "  [1.29806186e-01 4.04510337e-01 1.82504313e-01 1.74389142e-01\n",
            "   3.57159217e-01 6.43855999e-02 6.39053141e-02 3.69720812e-01\n",
            "   4.10302794e-01 1.32007881e-01]\n",
            "  [5.54972743e-02 3.44040386e-01 6.68600602e-02 8.82744506e-02\n",
            "   1.87297426e-01 4.96611480e-01 1.23784206e-01 4.76039412e-02\n",
            "   1.38253272e-01 3.73639060e-01]\n",
            "  [4.36965945e-03 2.94923950e-01 5.76343067e-02 2.38085522e-01\n",
            "   2.14375995e-01 6.25173880e-01 3.12468932e-03 1.16825674e-01\n",
            "   2.06133593e-02 2.49310198e-01]]\n",
            "\n",
            " [[4.59599267e-02 2.66648020e-01 1.90310649e-01 3.51393295e-01\n",
            "   6.89809944e-01 2.90409927e-02 1.70080064e-01 3.95358839e-04\n",
            "   8.70481916e-02 1.40839711e-02]\n",
            "  [1.85790966e-01 3.33257342e-01 1.35745844e-01 5.09641805e-01\n",
            "   8.75296748e-01 9.57484287e-02 2.53352109e-01 1.24299138e-01\n",
            "   2.45185657e-01 1.68469073e-03]\n",
            "  [1.16733963e-01 2.66918100e-01 7.49359997e-02 2.91701933e-01\n",
            "   8.87903742e-01 3.32300853e-02 1.60225490e-01 7.63971607e-03\n",
            "   6.27390917e-01 2.35627761e-02]\n",
            "  [4.49683322e-01 1.21682091e-01 2.97402214e-01 3.97086315e-01\n",
            "   3.46361927e-01 7.31574051e-02 7.71819694e-02 1.82092406e-01\n",
            "   4.43500713e-01 2.18024849e-02]\n",
            "  [5.86815132e-01 2.16050158e-01 7.11874341e-02 5.33480970e-01\n",
            "   3.80579179e-01 9.59395459e-02 2.14368692e-01 1.59377846e-01\n",
            "   2.41526189e-01 4.52150576e-02]\n",
            "  [2.22656336e-01 6.97234863e-01 1.41287873e-01 6.06598313e-01\n",
            "   8.39678086e-01 1.53245969e-01 2.06993075e-01 1.85518494e-02\n",
            "   2.49399900e-01 1.13610445e-02]\n",
            "  [5.66201026e-01 4.15926673e-01 1.33817969e-01 2.65565394e-01\n",
            "   3.50680928e-01 1.64365475e-01 5.19892949e-02 1.97844016e-01\n",
            "   1.35295933e-01 3.45998193e-02]\n",
            "  [6.08017987e-01 5.90062572e-01 3.29317821e-01 2.86716542e-01\n",
            "   5.41966639e-01 1.64011934e-02 1.72944836e-01 1.92204798e-01\n",
            "   4.39069921e-01 2.10234678e-02]\n",
            "  [2.59951718e-01 5.01854555e-01 1.20644871e-01 1.45133721e-01\n",
            "   2.84212059e-01 1.26503767e-01 3.34993100e-01 2.47476085e-02\n",
            "   1.47946478e-01 5.95054529e-02]\n",
            "  [2.04676805e-02 4.30208004e-01 1.03997566e-01 3.91440983e-01\n",
            "   3.25302084e-01 1.59252965e-01 8.45624328e-03 6.07335436e-02\n",
            "   2.20586020e-02 3.97049394e-02]]\n",
            "\n",
            " [[8.31147659e-03 3.70290319e-01 3.01166270e-01 2.15468785e-01\n",
            "   4.92137793e-01 7.40059122e-02 2.34220278e-03 1.54209572e-03\n",
            "   7.93701323e-02 9.75845040e-02]\n",
            "  [3.35987757e-02 4.62789738e-01 2.14817561e-01 3.12504256e-01\n",
            "   6.24471440e-01 2.43998195e-01 3.48895691e-03 4.84828338e-01\n",
            "   2.23559131e-01 1.16728235e-02]\n",
            "  [2.11103818e-02 3.70665375e-01 1.18586089e-01 1.78866990e-01\n",
            "   6.33465770e-01 8.46810851e-02 2.20649370e-03 2.97986849e-02\n",
            "   5.72052091e-01 1.63260901e-01]\n",
            "  [8.13215484e-02 1.68978192e-01 4.70638486e-01 2.43487019e-01\n",
            "   2.47108346e-01 1.86428906e-01 1.06288662e-03 7.10250770e-01\n",
            "   4.04381867e-01 1.51064260e-01]\n",
            "  [1.06120714e-01 3.00025787e-01 1.12653990e-01 3.27122054e-01\n",
            "   2.71520291e-01 2.44485224e-01 2.95210935e-03 6.21652712e-01\n",
            "   2.20222445e-01 3.13284438e-01]\n",
            "  [4.02655761e-02 9.68240154e-01 2.23587813e-01 3.71956446e-01\n",
            "   5.99059674e-01 3.90520662e-01 2.85053842e-03 7.23614214e-02\n",
            "   2.27401658e-01 7.87179896e-02]\n",
            "  [1.02392822e-01 5.77591465e-01 2.11766703e-01 1.62840479e-01\n",
            "   2.50189692e-01 4.18856789e-01 7.15953819e-04 7.71689870e-01\n",
            "   1.23362196e-01 2.39733963e-01]\n",
            "  [1.09955077e-01 8.19411515e-01 5.21144877e-01 1.75810027e-01\n",
            "   3.86660511e-01 4.17955850e-02 2.38165407e-03 7.49694121e-01\n",
            "   4.00341892e-01 1.45666635e-01]\n",
            "  [4.70101406e-02 6.96918294e-01 1.90920299e-01 8.89936915e-02\n",
            "   2.02768163e-01 3.22372818e-01 4.61324952e-03 9.65279576e-02\n",
            "   1.34896904e-01 4.12299206e-01]\n",
            "  [3.70141251e-03 5.97423746e-01 1.64575967e-01 2.40025391e-01\n",
            "   2.32083418e-01 4.05828447e-01 1.16452429e-04 2.36890967e-01\n",
            "   2.01129297e-02 2.75106132e-01]]]\n"
          ]
        }
      ],
      "source": [
        "\n",
        "# Multiplicar elemento a elemento el vector por todas las filas de la matriz\n",
        "matriz_fila = a * b\n",
        "\n",
        "# Multiplicar elemento a elemento el vector por todas las columnas de la matriz\n",
        "matriz_columna = a * b[:, np.newaxis]\n",
        "\n",
        "# Imprimir las matrices resultantes\n",
        "print(\"Matriz resultado de multiplicar elemento a elemento el vector por todas las filas de la matriz:\")\n",
        "print(matriz_fila)\n",
        "\n",
        "print(\"\\nMatriz resultado de multiplicar elemento a elemento el vector por todas las columnas de la matriz:\")\n",
        "print(matriz_columna)\n"
      ]
    },
    {
      "cell_type": "markdown",
      "metadata": {
        "id": "iZgPtpPZjlrj"
      },
      "source": [
        "### Ejercicio 20\n",
        "Dadas las siguientes matrices, a y b, obtener el número de dimensiones de cada una de ellas. Obtener una nueva matriz c de forma se sume la matriz b a cada \"capa\" de la matriz a"
      ]
    },
    {
      "cell_type": "code",
      "execution_count": 35,
      "metadata": {
        "id": "b--ajeJJjlrj"
      },
      "outputs": [],
      "source": [
        "a = np.random.rand(4,3,3)\n",
        "b = np.array([[1, 1, 1], [2, 2, 2], [3, 3, 3]])"
      ]
    },
    {
      "cell_type": "code",
      "execution_count": 38,
      "metadata": {
        "colab": {
          "base_uri": "https://localhost:8080/"
        },
        "id": "jDQQhwzBjlrj",
        "outputId": "40f38b61-85c8-40b3-bedc-94e0d9646571"
      },
      "outputs": [
        {
          "output_type": "stream",
          "name": "stdout",
          "text": [
            "Matriz resultante (c) después de sumar la matriz B a cada capa de la matriz A:\n",
            "[[[1.70820736 1.18627776 1.61505942]\n",
            "  [2.68384909 2.23938479 2.59349564]\n",
            "  [3.75335272 3.90867118 3.71509124]]\n",
            "\n",
            " [[1.07473205 1.90737048 1.90845389]\n",
            "  [2.82882731 2.93450236 2.90640035]\n",
            "  [3.59171629 3.89289566 3.50928989]]\n",
            "\n",
            " [[1.50096641 1.01660054 1.74108172]\n",
            "  [2.67672588 2.88213266 2.12959873]\n",
            "  [3.79756853 3.93272237 3.2242953 ]]\n",
            "\n",
            " [[1.62900018 1.67603687 1.15363226]\n",
            "  [2.63097934 2.88354149 2.67297139]\n",
            "  [3.74228609 3.63307208 3.0572451 ]]]\n"
          ]
        }
      ],
      "source": [
        "\n",
        "# Definir las matrices a y b\n",
        "a = np.random.rand(4, 3, 3)\n",
        "b = np.array([[1, 1, 1], [2, 2, 2], [3, 3, 3]])\n",
        "\n",
        "# Ajustar las dimensiones de la matriz b para que coincida con las dimensiones de la matriz a\n",
        "b_expandida = np.expand_dims(b, axis=0)  # Añadir una dimensión al principio\n",
        "\n",
        "# Sumar la matriz b a cada \"capa\" de la matriz a\n",
        "c = a + b_expandida\n",
        "\n",
        "# Imprimir la nueva matriz c\n",
        "print(\"Matriz resultante (c) después de sumar la matriz B a cada capa de la matriz A:\")\n",
        "print(c)\n",
        "\n"
      ]
    },
    {
      "cell_type": "markdown",
      "metadata": {
        "id": "cqb7Us9djlrk"
      },
      "source": [
        "### Ejercicio 21\n",
        "\n",
        "Dados los siguientes vectores a y b, obtener una matriz c de tal forma que $c_{ij} = a_i \\times b_j$"
      ]
    },
    {
      "cell_type": "code",
      "execution_count": null,
      "metadata": {
        "id": "4cNe-bjajlrk"
      },
      "outputs": [],
      "source": [
        "a = [1, 2, 3]\n",
        "b = [1, 2, 3]"
      ]
    },
    {
      "cell_type": "code",
      "execution_count": 39,
      "metadata": {
        "colab": {
          "base_uri": "https://localhost:8080/"
        },
        "id": "eb5YC4lxjlrl",
        "outputId": "7b91679c-9b39-4185-a236-a9365f2b4b08"
      },
      "outputs": [
        {
          "output_type": "stream",
          "name": "stdout",
          "text": [
            "Matriz c:\n",
            "[[1 2 3]\n",
            " [2 4 6]\n",
            " [3 6 9]]\n"
          ]
        }
      ],
      "source": [
        "# Definir los vectores a y b\n",
        "a = [1, 2, 3]\n",
        "b = [1, 2, 3]\n",
        "\n",
        "# Obtener la matriz c usando np.outer\n",
        "c = np.outer(a, b)\n",
        "\n",
        "# Imprimir la matriz c resultante\n",
        "print(\"Matriz c:\")\n",
        "print(c)\n"
      ]
    },
    {
      "cell_type": "markdown",
      "metadata": {
        "id": "rneHikapjlrl"
      },
      "source": [
        "### Ejercicio 22\n",
        "\n",
        "Crear una matriz 3x3 con todos los valores del rango [0,8]."
      ]
    },
    {
      "cell_type": "code",
      "execution_count": 40,
      "metadata": {
        "colab": {
          "base_uri": "https://localhost:8080/"
        },
        "id": "s-I7uX0Ljlrl",
        "outputId": "5fe0a7bf-aaca-4101-c00f-e3ebbff0ddba"
      },
      "outputs": [
        {
          "output_type": "stream",
          "name": "stdout",
          "text": [
            "Matriz 3x3 con valores del rango [0, 8]:\n",
            "[[0 1 2]\n",
            " [3 4 5]\n",
            " [6 7 8]]\n"
          ]
        }
      ],
      "source": [
        "\n",
        "# Crear un array de 0 a 8 (inclusive)\n",
        "valores = np.arange(9)\n",
        "\n",
        "# Remodelar el array en una matriz 3x3\n",
        "matriz = valores.reshape(3, 3)\n",
        "\n",
        "# Imprimir la matriz resultante\n",
        "print(\"Matriz 3x3 con valores del rango [0, 8]:\")\n",
        "print(matriz)"
      ]
    },
    {
      "cell_type": "markdown",
      "metadata": {
        "id": "AxcrfmE2jlrl"
      },
      "source": [
        "### Ejercicio 23\n",
        "\n",
        "Dada la siguiente matriz, imprime las posiciones (filas y columnas) de aquellos elementos cuyo valor sea exactamente la media de toda la matriz."
      ]
    },
    {
      "cell_type": "code",
      "execution_count": 42,
      "metadata": {
        "id": "2s96YexQjlrm"
      },
      "outputs": [],
      "source": [
        "matriz=np.array([[3,5,6],[5,4,5],[8,4,5]])"
      ]
    },
    {
      "cell_type": "code",
      "execution_count": 43,
      "metadata": {
        "colab": {
          "base_uri": "https://localhost:8080/"
        },
        "id": "e2JLHeuUjlrm",
        "outputId": "22f83f72-5040-46da-bf06-7e77e3291f8f"
      },
      "outputs": [
        {
          "output_type": "stream",
          "name": "stdout",
          "text": [
            "Posiciones de los elementos cuyo valor es la media de la matriz:\n",
            "Fila: 0 - Columna: 1\n",
            "Fila: 1 - Columna: 0\n",
            "Fila: 1 - Columna: 2\n",
            "Fila: 2 - Columna: 2\n"
          ]
        }
      ],
      "source": [
        "\n",
        "# Calcular la media de la matriz\n",
        "media_matriz = np.mean(matriz)\n",
        "\n",
        "# Obtener las posiciones de los elementos cuyo valor sea igual a la media de la matriz\n",
        "posiciones = np.argwhere(matriz == media_matriz)\n",
        "\n",
        "# Imprimir las posiciones\n",
        "print(\"Posiciones de los elementos cuyo valor es la media de la matriz:\")\n",
        "for posicion in posiciones:\n",
        "    print(\"Fila:\", posicion[0], \"- Columna:\", posicion[1])\n"
      ]
    },
    {
      "cell_type": "markdown",
      "metadata": {
        "id": "7ijDfqiejlrm"
      },
      "source": [
        "### Ejercicio 24\n",
        "\n",
        "Dado el siguiente vector y el valor x, imprime el valor contenido en el vector más cercano a x."
      ]
    },
    {
      "cell_type": "code",
      "execution_count": null,
      "metadata": {
        "id": "XyirEmJ7jlrm"
      },
      "outputs": [],
      "source": [
        "vector=np.random.permutation(np.arange(100))\n",
        "x=35.4"
      ]
    },
    {
      "cell_type": "code",
      "execution_count": 44,
      "metadata": {
        "colab": {
          "base_uri": "https://localhost:8080/"
        },
        "id": "evyEVDARjlrn",
        "outputId": "ec533a36-6662-4a9a-f607-7a17c5f29985"
      },
      "outputs": [
        {
          "output_type": "stream",
          "name": "stdout",
          "text": [
            "Posición del elemento más cercano a 35.4 en el vector: 68\n",
            "Valor en la posición encontrada: 35\n"
          ]
        }
      ],
      "source": [
        "\n",
        "# Definir el vector y el valor x\n",
        "vector = np.random.permutation(np.arange(100))\n",
        "x = 35.4\n",
        "\n",
        "# Encontrar la posición del elemento más cercano a x\n",
        "posicion_cercana = np.abs(vector - x).argmin()\n",
        "\n",
        "# Imprimir la posición del elemento más cercano a x\n",
        "print(\"Posición del elemento más cercano a\", x, \"en el vector:\", posicion_cercana)\n",
        "print(\"Valor en la posición encontrada:\", vector[posicion_cercana])\n"
      ]
    },
    {
      "cell_type": "markdown",
      "metadata": {
        "id": "WeJuxMYAjlrn"
      },
      "source": [
        "### Ejercicio 25\n",
        "\n",
        "Cargar la matriz de números que se encuentra en dimensiones.txt. Cada fila representa a cada uno de los objetos de un problema concreto, siendo cada una de las columnas las características que definen cada objeto. Observa que cada columna tiene un rango muy diferente. Obtener nuevas matrices en las que cada una de las características esté en la misma escala. Para cada matriz, normaliza todas las columnas utilizando uno de los siguientes métodos:\n",
        "- Dividir cada elemento entre la suma de los elementos de cada columna $$\\frac{x_i}{\\sum_{j=1}^{n}x_j}$$\n",
        "- Restar a cada elemento el mínimo de la columna y dividir entre la resta del máximo menos mínimo $$\\frac{x_i-\\min_j x_j}{\\max_j x_j - \\min_j x_j}$$\n",
        "- Restar a cada elemento la media aritmética de la columna y dividir entre la desviación típica de los elementos de la columna $$\\frac{x_i - \\overline{x}}{\\sigma}$$\n",
        "- Dividir cada elemento entre la norma euclídea del vector columna $$\\frac{x_i}{\\sqrt{\\sum_{j=1}^{n}x_j^2}}$$"
      ]
    },
    {
      "cell_type": "code",
      "execution_count": 50,
      "metadata": {
        "colab": {
          "base_uri": "https://localhost:8080/"
        },
        "id": "nXJJwUzyjlrn",
        "outputId": "ae8718e0-34d8-405b-c32a-53f291f2941b"
      },
      "outputs": [
        {
          "output_type": "stream",
          "name": "stdout",
          "text": [
            "Matriz normalizada:\n",
            "[[ 0.00154594  0.00067639  0.00029431 -0.03193277  0.0016428   0.00105936]\n",
            " [ 0.00011214 -0.00062945  0.00139802 -0.03109244  0.00178477  0.00095852]\n",
            " [ 0.00171214  0.00098578  0.00126023 -0.03613445  0.00018253  0.00091089]\n",
            " ...\n",
            " [ 0.00186634  0.00054197  0.00022965 -0.02016807  0.00168337  0.00102793]\n",
            " [ 0.00021827  0.00097725  0.00169293  0.01596639  0.00192674  0.0010261 ]\n",
            " [ 0.00130563  0.0016387   0.00067987  0.02689076  0.00129802  0.00103341]]\n"
          ]
        }
      ],
      "source": [
        "##NORMALIZACION METODO 1##\n",
        "\n",
        "# Cargar la matriz desde el archivo dimensions.txt\n",
        "matriz = np.loadtxt(\"/content/dimensiones.txt\", delimiter=\",\")\n",
        "\n",
        "# Obtener el número de filas y columnas de la matriz\n",
        "filas, columnas = matriz.shape\n",
        "\n",
        "# Crear una nueva matriz para almacenar los resultados de la normalización\n",
        "matriz_normalizada = np.zeros((filas, columnas))\n",
        "\n",
        "# Normalizar cada columna dividiendo cada elemento por la suma de los elementos de esa columna\n",
        "for j in range(columnas):\n",
        "    suma_columna = np.sum(matriz[:, j])\n",
        "    matriz_normalizada[:, j] = matriz[:, j] / suma_columna\n",
        "\n",
        "# Imprimir la matriz normalizada\n",
        "print(\"Matriz normalizada:\")\n",
        "print(matriz_normalizada)"
      ]
    },
    {
      "cell_type": "code",
      "source": [
        "## NORMALIZACION METODO 2##\n",
        "\n",
        "# Cargar la matriz desde el archivo dimensions.txt, utilizando comas como delimitador\n",
        "matriz = np.loadtxt(\"/content/dimensiones.txt\", delimiter=\",\")\n",
        "\n",
        "# Obtener el número de filas y columnas de la matriz\n",
        "filas, columnas = matriz.shape\n",
        "\n",
        "# Calcular el mínimo y el máximo de cada columna\n",
        "minimos_columnas = np.min(matriz, axis=0)\n",
        "maximos_columnas = np.max(matriz, axis=0)\n",
        "\n",
        "# Normalizar cada columna restando el mínimo y dividiendo entre la resta del máximo menos mínimo\n",
        "matriz_normalizada = (matriz - minimos_columnas) / (maximos_columnas - minimos_columnas)\n",
        "\n",
        "# Imprimir la matriz normalizada\n",
        "print(\"Matriz normalizada:\")\n",
        "print(matriz_normalizada)\n",
        "\n",
        "\n"
      ],
      "metadata": {
        "colab": {
          "base_uri": "https://localhost:8080/"
        },
        "id": "_b7dYjgvoYHd",
        "outputId": "2de1e7da-0944-4aa4-8f59-c4bf2f0ff41d"
      },
      "execution_count": 51,
      "outputs": [
        {
          "output_type": "stream",
          "name": "stdout",
          "text": [
            "Matriz normalizada:\n",
            "[[0.77254509 0.43290043 0.85411247 0.12       0.80808081 0.21372607]\n",
            " [0.05511022 0.21212121 0.30588353 0.13       0.87878788 0.70916053]\n",
            " [0.85571142 0.48520924 0.37432459 0.07       0.08080808 0.9432106 ]\n",
            " ...\n",
            " [0.93286573 0.41017316 0.88623174 0.26       0.82828283 0.3681296 ]\n",
            " [0.10821643 0.48376623 0.15939564 0.69       0.94949495 0.37714286]\n",
            " [0.65230461 0.59559885 0.66259756 0.82       0.63636364 0.34120766]]\n"
          ]
        }
      ]
    },
    {
      "cell_type": "code",
      "source": [
        "##METODO 3##\n",
        "\n",
        "\n",
        "# Cargar la matriz desde el archivo dimensions.txt, utilizando comas como delimitador\n",
        "matriz = np.loadtxt(\"/content/dimensiones.txt\", delimiter=\",\")\n",
        "\n",
        "# Obtener el número de filas y columnas de la matriz\n",
        "filas, columnas = matriz.shape\n",
        "\n",
        "# Calcular la media y la desviación estándar de cada columna\n",
        "medias_columnas = np.mean(matriz, axis=0)\n",
        "desviaciones_columnas = np.std(matriz, axis=0)\n",
        "\n",
        "# Normalizar cada columna restando la media y dividiendo entre la desviación estándar\n",
        "matriz_normalizada = (matriz - medias_columnas) / desviaciones_columnas\n",
        "\n",
        "# Imprimir la matriz normalizada\n",
        "print(\"Matriz normalizada:\")\n",
        "print(matriz_normalizada)\n",
        "\n"
      ],
      "metadata": {
        "colab": {
          "base_uri": "https://localhost:8080/"
        },
        "id": "hz86CRUaop-k",
        "outputId": "a9bedc48-b349-4295-9866-54cef33dd56b"
      },
      "execution_count": 52,
      "outputs": [
        {
          "output_type": "stream",
          "name": "stdout",
          "text": [
            "Matriz normalizada:\n",
            "[[ 0.95130396 -0.23696164  1.21004216 -1.34631423  1.09540651 -0.99990004]\n",
            " [-1.54711378 -1.19316405 -0.68247725 -1.31196071  1.33734018  0.69864449]\n",
            " [ 1.24092501 -0.01041042 -0.44621456 -1.5180818  -1.39305404  1.50106035]\n",
            " ...\n",
            " [ 1.5096096  -0.33539424  1.32091982 -0.86536503  1.16453042 -0.47054389]\n",
            " [-1.36217504 -0.01666011 -1.1881623   0.61183609  1.57927384 -0.43964291]\n",
            " [ 0.53257473  0.46769078  0.54892113  1.05843178  0.50785333 -0.56284292]]\n"
          ]
        }
      ]
    },
    {
      "cell_type": "code",
      "source": [
        "##METODO 4##\n",
        "\n",
        "\n",
        "# Cargar la matriz desde el archivo dimensions.txt, utilizando comas como delimitador\n",
        "matriz = np.loadtxt(\"/content/dimensiones.txt\", delimiter=\",\")\n",
        "\n",
        "# Calcular la norma euclidiana de cada columna\n",
        "normas_columnas = np.linalg.norm(matriz, axis=0)\n",
        "\n",
        "# Normalizar cada columna dividiendo cada elemento por la norma euclidiana correspondiente\n",
        "matriz_normalizada = matriz / normas_columnas\n",
        "\n",
        "# Imprimir la matriz normalizada\n",
        "print(\"Matriz normalizada:\")\n",
        "print(matriz_normalizada)\n"
      ],
      "metadata": {
        "colab": {
          "base_uri": "https://localhost:8080/"
        },
        "id": "IZx4ofKeo7HG",
        "outputId": "8b8ef611-8f68-413b-eaf2-0bcd8d601357"
      },
      "execution_count": 53,
      "outputs": [
        {
          "output_type": "stream",
          "name": "stdout",
          "text": [
            "Matriz normalizada:\n",
            "[[ 0.04240074  0.01263675 -0.00803956 -0.04124698  0.04480522 -0.033441  ]\n",
            " [ 0.0030757  -0.01175975 -0.03818926 -0.04016153  0.04867727 -0.03025795]\n",
            " [ 0.04695936  0.01841696 -0.03442537 -0.04667422  0.00497836 -0.02875423]\n",
            " ...\n",
            " [ 0.05118845  0.01012534 -0.00627316 -0.02605072  0.04591152 -0.032449  ]\n",
            " [ 0.00598663  0.01825751 -0.04624533  0.02062349  0.05254933 -0.03239109]\n",
            " [ 0.03580995  0.03061521 -0.01857187  0.0347343   0.03540165 -0.03262196]]\n"
          ]
        }
      ]
    },
    {
      "cell_type": "markdown",
      "metadata": {
        "id": "ajdaW5HQjlro"
      },
      "source": [
        "### Ejercicio 26\n",
        "\n",
        "En este ejercicio vamos a aproximar la integral definida de una función $\\int_{a}^{b} f(x)dx$ mediante números aleatorios. Para ello, vamos a generar un conjunto de n (suficientemente grande) números aleatorios en el intervalo $[a,b]$. La aproximación de la integral de dicha función vendrá dada por\n",
        "\n",
        "$$\\frac{b-a}{n}\\sum_{i=1}^{n} f(x_i).$$\n",
        "\n",
        "Vamos a calcular la aproximación de la integral $\\int_{0}^{10}f(x)dx$ donde\n",
        "\n",
        "$$f(x)=\\begin{cases}\n",
        "    x^2-\\frac{x}{9} & \\mbox{ si } x\\le 3 \\\\\n",
        "    \\frac{4x}{3}-3 & \\mbox{ si } 3<x\\le 6 \\\\\n",
        "    \\frac{-5x}{24}+\\frac{50}{24} &  \\mbox{ en otro caso}\n",
        "\\end{cases}$$\n",
        "\n",
        "Evidentemente, cuanto mayor sea n (conjunto de números aleatorios), mejor será la aproximación de la integral"
      ]
    },
    {
      "cell_type": "code",
      "execution_count": 54,
      "metadata": {
        "colab": {
          "base_uri": "https://localhost:8080/"
        },
        "id": "7D4dWA8mjlro",
        "outputId": "da99959e-2132-40a1-f6ed-f222e35fe795"
      },
      "outputs": [
        {
          "output_type": "stream",
          "name": "stdout",
          "text": [
            "Aproximación de la integral definida: 0.33036477620656995\n"
          ]
        }
      ],
      "source": [
        "\n",
        "def aproximar_integral_definida(funcion, a, b, n):\n",
        "    # Generar n números aleatorios en el intervalo [a, b]\n",
        "    numeros_aleatorios = np.random.uniform(a, b, n)\n",
        "\n",
        "    # Evaluar la función en cada número aleatorio generado\n",
        "    evaluaciones = funcion(numeros_aleatorios)\n",
        "\n",
        "    # Calcular la media de las evaluaciones\n",
        "    media_evaluaciones = np.mean(evaluaciones)\n",
        "\n",
        "    # Calcular la longitud del intervalo [a, b]\n",
        "    longitud_intervalo = b - a\n",
        "\n",
        "    # Aproximar la integral definida\n",
        "    aproximacion_integral = longitud_intervalo * media_evaluaciones\n",
        "\n",
        "    return aproximacion_integral\n",
        "\n",
        "# Definir la función f(x)\n",
        "def f(x):\n",
        "    return x**2\n",
        "\n",
        "# Definir el intervalo [a, b]\n",
        "a = 0\n",
        "b = 1\n",
        "\n",
        "# Definir el número de puntos aleatorios\n",
        "n = 10000\n",
        "\n",
        "# Aproximar la integral definida de f(x) en [a, b]\n",
        "aproximacion = aproximar_integral_definida(f, a, b, n)\n",
        "\n",
        "print(\"Aproximación de la integral definida:\", aproximacion)\n"
      ]
    },
    {
      "cell_type": "code",
      "source": [
        "import numpy as np\n",
        "\n",
        "def f(x):\n",
        "    if x <= 3:\n",
        "        return (x**2 - x)/9\n",
        "    elif 3 < x <= 6:\n",
        "        return (4*x**3 - 3*x**2 - 5*x + 24)/24\n",
        "    else:\n",
        "        return 0\n",
        "\n",
        "def aproximar_integral_definida(funcion, a, b, n):\n",
        "    # Generar n números aleatorios en el intervalo [a, b]\n",
        "    numeros_aleatorios = np.random.uniform(a, b, n)\n",
        "\n",
        "    # Evaluar la función en cada número aleatorio generado\n",
        "    evaluaciones = np.array([funcion(x) for x in numeros_aleatorios])\n",
        "\n",
        "    # Calcular la media de las evaluaciones\n",
        "    media_evaluaciones = np.mean(evaluaciones)\n",
        "\n",
        "    # Calcular la longitud del intervalo [a, b]\n",
        "    longitud_intervalo = b - a\n",
        "\n",
        "    # Aproximar la integral definida\n",
        "    aproximacion_integral = longitud_intervalo * media_evaluaciones\n",
        "\n",
        "    return aproximacion_integral\n",
        "\n",
        "# Definir los límites del intervalo [a, b]\n",
        "a = 0\n",
        "b = 10\n",
        "\n",
        "# Definir el número de puntos aleatorios\n",
        "n = 1000000  # Puedes ajustar este valor según sea necesario\n",
        "\n",
        "# Aproximar la integral definida de f(x) en [a, b]\n",
        "aproximacion = aproximar_integral_definida(f, a, b, n)\n",
        "\n",
        "print(\"Aproximación de la integral definida:\", aproximacion)\n"
      ],
      "metadata": {
        "colab": {
          "base_uri": "https://localhost:8080/"
        },
        "id": "H9xhx0RtpxkF",
        "outputId": "da3cfef0-2a04-4ef7-c03a-971d3318acda"
      },
      "execution_count": 57,
      "outputs": [
        {
          "output_type": "stream",
          "name": "stdout",
          "text": [
            "Aproximación de la integral definida: 43.47243088040676\n"
          ]
        }
      ]
    },
    {
      "cell_type": "markdown",
      "metadata": {
        "id": "ef2cJj8Djlro"
      },
      "source": [
        "### Ejercicio 27\n",
        "\n",
        "Aproximación del número $\\pi$ mediante números aleatorios.\n",
        "\n",
        "Generar un conjunto de n puntos aleatorios de dos dimensiones en el cuadrado $[-1,1]^2$. Para cada punto aleatorio $(x_1,x_2)$, contaremos cuántos puntos satisfacen que están dentro del círculo de radio 1 centrado en $(0,0)$, es decir, cuántos cumplen la condición $x_1^2+x_2^2\\le 1$. El área de dicho círculo es $\\pi$, puesto que el radio es igual a 1. Por tanto, podemos establecer que\n",
        "\n",
        "$$ \\pi = 4 \\frac{\\mbox{# puntos dentro del círculo}}{n}$$"
      ]
    },
    {
      "cell_type": "code",
      "execution_count": 58,
      "metadata": {
        "colab": {
          "base_uri": "https://localhost:8080/"
        },
        "id": "IMUHp1COjlrp",
        "outputId": "755dd206-34bf-4a49-a5cd-02129c42d707"
      },
      "outputs": [
        {
          "output_type": "stream",
          "name": "stdout",
          "text": [
            "Aproximación de pi: 3.139592\n"
          ]
        }
      ],
      "source": [
        "\n",
        "def aproximar_pi(n):\n",
        "    # Generar n puntos aleatorios en el cuadrado [-1,1]^2\n",
        "    puntos = np.random.uniform(-1, 1, size=(n, 2))\n",
        "\n",
        "    # Contar cuántos puntos están dentro del círculo de radio 1 centrado en (0,0)\n",
        "    puntos_dentro_circulo = np.sum(np.sum(puntos**2, axis=1) <= 1)\n",
        "\n",
        "    # Aproximar pi\n",
        "    pi_aproximado = 4 * (puntos_dentro_circulo / n)\n",
        "\n",
        "    return pi_aproximado\n",
        "\n",
        "# Definir el número de puntos aleatorios\n",
        "n = 1000000  # Puedes ajustar este valor según sea necesario\n",
        "\n",
        "# Aproximar pi\n",
        "pi_aproximado = aproximar_pi(n)\n",
        "\n",
        "print(\"Aproximación de pi:\", pi_aproximado)\n"
      ]
    }
  ],
  "metadata": {
    "kernelspec": {
      "display_name": "Python 3 (ipykernel)",
      "language": "python",
      "name": "python3"
    },
    "language_info": {
      "codemirror_mode": {
        "name": "ipython",
        "version": 3
      },
      "file_extension": ".py",
      "mimetype": "text/x-python",
      "name": "python",
      "nbconvert_exporter": "python",
      "pygments_lexer": "ipython3",
      "version": "3.8.10"
    },
    "colab": {
      "provenance": [],
      "include_colab_link": true
    }
  },
  "nbformat": 4,
  "nbformat_minor": 0
}